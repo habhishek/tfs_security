{
 "cells": [
  {
   "cell_type": "code",
   "execution_count": 1,
   "metadata": {
    "scrolled": true
   },
   "outputs": [],
   "source": [
    "from azure.devops.connection import Connection\n",
    "from msrest.authentication import BasicAuthentication\n",
    "import pprint"
   ]
  },
  {
   "cell_type": "code",
   "execution_count": 2,
   "metadata": {},
   "outputs": [],
   "source": [
    "# Fill in with your personal access token and org URL\n",
    "personal_access_token = 'spov5s7rr5462wmju5lc3jtdgetc4itewtbvut2ts7iifjflnw3a'\n",
    "organization_url = 'http://gfsvstf:8080/tfs/GFS%20Service%20Mgmt'"
   ]
  },
  {
   "cell_type": "code",
   "execution_count": 3,
   "metadata": {},
   "outputs": [],
   "source": [
    "# Create a connection to the org\n",
    "credentials = BasicAuthentication('', personal_access_token)\n",
    "connection = Connection(base_url=organization_url, creds=credentials)"
   ]
  },
  {
   "cell_type": "code",
   "execution_count": 4,
   "metadata": {},
   "outputs": [],
   "source": [
    "# Get a client (the \"core\" client provides access to projects, teams, etc)\n",
    "core_client = connection.clients.get_core_client()"
   ]
  },
  {
   "cell_type": "code",
   "execution_count": 5,
   "metadata": {},
   "outputs": [],
   "source": [
    "get_project_response = core_client.get_projects()"
   ]
  },
  {
   "cell_type": "code",
   "execution_count": 6,
   "metadata": {},
   "outputs": [],
   "source": [
    "tokens_dict = {}\n",
    "for projects in get_project_response.value:\n",
    "    tokens_dict[projects.name] = str('$PROJECT:vstfs:///Classification/TeamProject/'+projects.url.split('/')[-1]+':')"
   ]
  },
  {
   "cell_type": "code",
   "execution_count": 7,
   "metadata": {},
   "outputs": [
    {
     "data": {
      "text/plain": [
       "{'GFS-PlatformServices': '$PROJECT:vstfs:///Classification/TeamProject/71c9f668-f9fb-4c5f-85e1-1c904c7083b2:',\n",
       " 'GNS-Code': '$PROJECT:vstfs:///Classification/TeamProject/04865936-bbdc-434b-83f5-7b2e4ec1fd02:',\n",
       " 'GNS-EDGE': '$PROJECT:vstfs:///Classification/TeamProject/b810a24a-e975-4fa9-a6f2-b55fccbb5846:',\n",
       " 'GFSPrM-MOC': '$PROJECT:vstfs:///Classification/TeamProject/00633567-0f14-4663-9575-e38f9680b31c:',\n",
       " 'GFS-CSIPRM': '$PROJECT:vstfs:///Classification/TeamProject/d5ca8447-9e11-479e-b6da-4aa00231bea9:',\n",
       " 'GNS-SM': '$PROJECT:vstfs:///Classification/TeamProject/9ea02088-da8f-4747-8462-493b3b15d8cb:',\n",
       " 'test': '$PROJECT:vstfs:///Classification/TeamProject/74700dfa-514d-4357-b848-3c8e23314a6e:',\n",
       " 'Task Management': '$PROJECT:vstfs:///Classification/TeamProject/f1be4206-5b1b-4514-b6ca-f153158602ef:',\n",
       " 'BGIT_test': '$PROJECT:vstfs:///Classification/TeamProject/e9e06476-0325-49c3-a281-813b475e349d:',\n",
       " 'GFSPrM-PPE': '$PROJECT:vstfs:///Classification/TeamProject/d5dc4b27-2f6f-4fe5-bf14-880debd9fb6d:'}"
      ]
     },
     "execution_count": 7,
     "metadata": {},
     "output_type": "execute_result"
    }
   ],
   "source": [
    "tokens_dict"
   ]
  },
  {
   "cell_type": "code",
   "execution_count": 8,
   "metadata": {},
   "outputs": [],
   "source": [
    "security_client  = connection.clients.get_security_client()"
   ]
  },
  {
   "cell_type": "code",
   "execution_count": 9,
   "metadata": {},
   "outputs": [],
   "source": [
    "project_security_namespaceid = '52D39943-CB85-4D7F-8FA8-C6BAAC873819'"
   ]
  },
  {
   "cell_type": "code",
   "execution_count": 10,
   "metadata": {},
   "outputs": [],
   "source": [
    "#Get ACLs for all the projects in the project namespace:-\n",
    "project_acls = {}\n",
    "for key in tokens_dict:\n",
    "    project_acls[key] = security_client.query_access_control_lists(security_namespace_id= project_security_namespaceid, token=tokens_dict[key])"
   ]
  },
  {
   "cell_type": "code",
   "execution_count": 11,
   "metadata": {},
   "outputs": [
    {
     "data": {
      "text/plain": [
       "{'GFS-PlatformServices': [<azure.devops.v5_1.security.models.AccessControlList at 0x207364bcdc8>],\n",
       " 'GNS-Code': [<azure.devops.v5_1.security.models.AccessControlList at 0x207364c6f08>],\n",
       " 'GNS-EDGE': [<azure.devops.v5_1.security.models.AccessControlList at 0x207364cccc8>],\n",
       " 'GFSPrM-MOC': [<azure.devops.v5_1.security.models.AccessControlList at 0x207364d6cc8>],\n",
       " 'GFS-CSIPRM': [<azure.devops.v5_1.security.models.AccessControlList at 0x207364dca08>],\n",
       " 'GNS-SM': [<azure.devops.v5_1.security.models.AccessControlList at 0x207364d9108>],\n",
       " 'test': [<azure.devops.v5_1.security.models.AccessControlList at 0x207364d2d08>],\n",
       " 'Task Management': [<azure.devops.v5_1.security.models.AccessControlList at 0x207364c6d88>],\n",
       " 'BGIT_test': [<azure.devops.v5_1.security.models.AccessControlList at 0x207364bc1c8>],\n",
       " 'GFSPrM-PPE': [<azure.devops.v5_1.security.models.AccessControlList at 0x207364ed588>]}"
      ]
     },
     "execution_count": 11,
     "metadata": {},
     "output_type": "execute_result"
    }
   ],
   "source": [
    "project_acls"
   ]
  },
  {
   "cell_type": "code",
   "execution_count": 12,
   "metadata": {},
   "outputs": [],
   "source": [
    "sample_project = 'BGIT_test'"
   ]
  },
  {
   "cell_type": "code",
   "execution_count": 13,
   "metadata": {},
   "outputs": [],
   "source": [
    "sample_project_acl = project_acls[sample_project][0]"
   ]
  },
  {
   "cell_type": "code",
   "execution_count": 14,
   "metadata": {
    "scrolled": false
   },
   "outputs": [
    {
     "data": {
      "text/plain": [
       "{'aces_dictionary': {'Microsoft.TeamFoundation.ServiceIdentity;d5df3285-17cc-4f04-8be9-6d20c3217dd5:Build:d17714fd-5a56-484a-99e9-1163029a6352': {'allow': 4777,\n",
       "   'deny': 0,\n",
       "   'descriptor': 'Microsoft.TeamFoundation.ServiceIdentity;d5df3285-17cc-4f04-8be9-6d20c3217dd5:Build:d17714fd-5a56-484a-99e9-1163029a6352'},\n",
       "  'Microsoft.TeamFoundation.Identity;S-1-9-1551374245-1194710491-279448905-2359889803-2671216909-0-0-0-0-1': {'allow': 15989759,\n",
       "   'deny': 0,\n",
       "   'descriptor': 'Microsoft.TeamFoundation.Identity;S-1-9-1551374245-1194710491-279448905-2359889803-2671216909-0-0-0-0-1'},\n",
       "  'Microsoft.TeamFoundation.Identity;S-1-9-1551374245-1194710491-279448905-2359889803-2671216909-1-1077864093-2880561487-2695991113-3413047478': {'allow': 513,\n",
       "   'deny': 0,\n",
       "   'descriptor': 'Microsoft.TeamFoundation.Identity;S-1-9-1551374245-1194710491-279448905-2359889803-2671216909-1-1077864093-2880561487-2695991113-3413047478'},\n",
       "  'Microsoft.TeamFoundation.Identity;S-1-9-1551374245-1194710491-279448905-2359889803-2671216909-1-3466255861-1889724743-2337437903-358788907': {'allow': 6953,\n",
       "   'deny': 0,\n",
       "   'descriptor': 'Microsoft.TeamFoundation.Identity;S-1-9-1551374245-1194710491-279448905-2359889803-2671216909-1-3466255861-1889724743-2337437903-358788907'},\n",
       "  'Microsoft.TeamFoundation.Identity;S-1-9-1551374245-1194710491-279448905-2359889803-2671216909-1-3941832734-3525028687-3007377315-1764487861': {'allow': 7033,\n",
       "   'deny': 0,\n",
       "   'descriptor': 'Microsoft.TeamFoundation.Identity;S-1-9-1551374245-1194710491-279448905-2359889803-2671216909-1-3941832734-3525028687-3007377315-1764487861'},\n",
       "  'Microsoft.TeamFoundation.Identity;S-1-9-1551374245-1194710491-279448905-2359889803-2671216909-1-3998465884-2519056194-2217324353-455563786': {'allow': 513,\n",
       "   'deny': 15972622,\n",
       "   'descriptor': 'Microsoft.TeamFoundation.Identity;S-1-9-1551374245-1194710491-279448905-2359889803-2671216909-1-3998465884-2519056194-2217324353-455563786'},\n",
       "  'Microsoft.TeamFoundation.Identity;S-1-9-1551374245-1204400969-2402986413-2179408616-0-0-0-0-1': {'allow': 112,\n",
       "   'deny': 0,\n",
       "   'descriptor': 'Microsoft.TeamFoundation.Identity;S-1-9-1551374245-1204400969-2402986413-2179408616-0-0-0-0-1'},\n",
       "  'Microsoft.TeamFoundation.Identity;S-1-9-1551374245-1204400969-2402986413-2179408616-0-0-0-1-1': {'allow': 681,\n",
       "   'deny': 0,\n",
       "   'descriptor': 'Microsoft.TeamFoundation.Identity;S-1-9-1551374245-1204400969-2402986413-2179408616-0-0-0-1-1'},\n",
       "  'Microsoft.TeamFoundation.Identity;S-1-9-1551374245-1204400969-2402986413-2179408616-0-0-0-1-2': {'allow': 112,\n",
       "   'deny': 0,\n",
       "   'descriptor': 'Microsoft.TeamFoundation.Identity;S-1-9-1551374245-1204400969-2402986413-2179408616-0-0-0-1-2'},\n",
       "  'Microsoft.TeamFoundation.Identity;S-1-9-1551374245-1204400969-2402986413-2179408616-0-0-0-4-1': {'allow': 521,\n",
       "   'deny': 0,\n",
       "   'descriptor': 'Microsoft.TeamFoundation.Identity;S-1-9-1551374245-1204400969-2402986413-2179408616-0-0-0-4-1'}},\n",
       " 'inherit_permissions': True,\n",
       " 'token': '$PROJECT:vstfs:///Classification/TeamProject/e9e06476-0325-49c3-a281-813b475e349d'}"
      ]
     },
     "execution_count": 14,
     "metadata": {},
     "output_type": "execute_result"
    }
   ],
   "source": [
    "sample_project_acl.as_dict()"
   ]
  },
  {
   "cell_type": "code",
   "execution_count": 15,
   "metadata": {},
   "outputs": [],
   "source": [
    "import json"
   ]
  },
  {
   "cell_type": "code",
   "execution_count": 16,
   "metadata": {},
   "outputs": [],
   "source": [
    "acl_json = json.dumps(sample_project_acl.as_dict(), indent=2)"
   ]
  },
  {
   "cell_type": "code",
   "execution_count": 18,
   "metadata": {},
   "outputs": [],
   "source": [
    "with open('acls_bgit_test.json', 'w') as fp:\n",
    "    json.dump(sample_project_acl.as_dict(), fp)"
   ]
  },
  {
   "cell_type": "code",
   "execution_count": 31,
   "metadata": {},
   "outputs": [
    {
     "data": {
      "text/plain": [
       "<azure.devops.v5_1.identity.models.Identity at 0x20736d470c8>"
      ]
     },
     "execution_count": 31,
     "metadata": {},
     "output_type": "execute_result"
    }
   ],
   "source": [
    "identity_client.read_identities(descriptors='Microsoft.TeamFoundation.Identity;S-1-9-1551374245-1204400969-2402986413-2179408616-0-0-0-1-2')[0]"
   ]
  },
  {
   "cell_type": "code",
   "execution_count": 21,
   "metadata": {
    "scrolled": true
   },
   "outputs": [],
   "source": [
    "id = identity_client.read_identities(descriptors='Microsoft.TeamFoundation.ServiceIdentity;d5df3285-17cc-4f04-8be9-6d20c3217dd5:Build:d17714fd-5a56-484a-99e9-1163029a6352')"
   ]
  },
  {
   "cell_type": "code",
   "execution_count": 23,
   "metadata": {},
   "outputs": [],
   "source": [
    "id = id[0]"
   ]
  },
  {
   "cell_type": "code",
   "execution_count": 32,
   "metadata": {},
   "outputs": [
    {
     "data": {
      "text/plain": [
       "{'custom_display_name': 'Project Collection Build Service (TEAM FOUNDATION)',\n",
       " 'descriptor': 'Microsoft.TeamFoundation.ServiceIdentity;d5df3285-17cc-4f04-8be9-6d20c3217dd5:Build:d17714fd-5a56-484a-99e9-1163029a6352',\n",
       " 'id': '9090cc59-d8b9-44c1-8a2c-d44e61de258b',\n",
       " 'is_active': True,\n",
       " 'master_id': 'ffffffff-ffff-ffff-ffff-ffffffffffff',\n",
       " 'member_ids': [],\n",
       " 'member_of': [],\n",
       " 'members': [],\n",
       " 'meta_type_id': 255,\n",
       " 'properties': {'SchemaClassName': {'$type': 'System.String',\n",
       "   '$value': 'User'},\n",
       "  'Description': {'$type': 'System.String', '$value': ''},\n",
       "  'Domain': {'$type': 'System.String', '$value': 'Build'},\n",
       "  'Account': {'$type': 'System.String',\n",
       "   '$value': 'd17714fd-5a56-484a-99e9-1163029a6352'},\n",
       "  'DN': {'$type': 'System.String', '$value': ''},\n",
       "  'Mail': {'$type': 'System.String', '$value': ''},\n",
       "  'SpecialType': {'$type': 'System.String', '$value': 'Generic'},\n",
       "  'ComplianceValidated': {'$type': 'System.DateTime',\n",
       "   '$value': '2020-08-06T00:00:00Z'},\n",
       "  'DirectoryAlias': {'$type': 'System.String',\n",
       "   '$value': 'd17714fd-5a56-484a-99e9-1163029a6352'}},\n",
       " 'provider_display_name': 'd17714fd-5a56-484a-99e9-1163029a6352',\n",
       " 'resource_version': 2,\n",
       " 'subject_descriptor': 'svc.ZDVkZjMyODUtMTdjYy00ZjA0LThiZTktNmQyMGMzMjE3ZGQ1OkJ1aWxkOmQxNzcxNGZkLTVhNTYtNDg0YS05OWU5LTExNjMwMjlhNjM1Mg'}"
      ]
     },
     "execution_count": 32,
     "metadata": {},
     "output_type": "execute_result"
    }
   ],
   "source": [
    "id.as_dict()"
   ]
  },
  {
   "cell_type": "code",
   "execution_count": null,
   "metadata": {},
   "outputs": [],
   "source": []
  }
 ],
 "metadata": {
  "kernelspec": {
   "display_name": "Python 3",
   "language": "python",
   "name": "python3"
  },
  "language_info": {
   "codemirror_mode": {
    "name": "ipython",
    "version": 3
   },
   "file_extension": ".py",
   "mimetype": "text/x-python",
   "name": "python",
   "nbconvert_exporter": "python",
   "pygments_lexer": "ipython3",
   "version": "3.7.6"
  }
 },
 "nbformat": 4,
 "nbformat_minor": 4
}
